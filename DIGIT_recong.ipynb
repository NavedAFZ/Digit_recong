{
  "nbformat": 4,
  "nbformat_minor": 0,
  "metadata": {
    "colab": {
      "name": "DIGIT_recong.ipynb",
      "provenance": []
    },
    "kernelspec": {
      "name": "python3",
      "display_name": "Python 3"
    },
    "widgets": {
      "application/vnd.jupyter.widget-state+json": {
        "f7bc7525569c46468c156e18c2007223": {
          "model_module": "@jupyter-widgets/controls",
          "model_name": "HBoxModel",
          "state": {
            "_view_name": "HBoxView",
            "_dom_classes": [],
            "_model_name": "HBoxModel",
            "_view_module": "@jupyter-widgets/controls",
            "_model_module_version": "1.5.0",
            "_view_count": null,
            "_view_module_version": "1.5.0",
            "box_style": "",
            "layout": "IPY_MODEL_d6cadfa0b6f84a66a52f8b1b130d923a",
            "_model_module": "@jupyter-widgets/controls",
            "children": [
              "IPY_MODEL_4f8ed2a266314cd79d986167640a8e5c",
              "IPY_MODEL_85a00407cc6a48fb81458ce6efde44e7"
            ]
          }
        },
        "d6cadfa0b6f84a66a52f8b1b130d923a": {
          "model_module": "@jupyter-widgets/base",
          "model_name": "LayoutModel",
          "state": {
            "_view_name": "LayoutView",
            "grid_template_rows": null,
            "right": null,
            "justify_content": null,
            "_view_module": "@jupyter-widgets/base",
            "overflow": null,
            "_model_module_version": "1.2.0",
            "_view_count": null,
            "flex_flow": null,
            "width": null,
            "min_width": null,
            "border": null,
            "align_items": null,
            "bottom": null,
            "_model_module": "@jupyter-widgets/base",
            "top": null,
            "grid_column": null,
            "overflow_y": null,
            "overflow_x": null,
            "grid_auto_flow": null,
            "grid_area": null,
            "grid_template_columns": null,
            "flex": null,
            "_model_name": "LayoutModel",
            "justify_items": null,
            "grid_row": null,
            "max_height": null,
            "align_content": null,
            "visibility": null,
            "align_self": null,
            "height": null,
            "min_height": null,
            "padding": null,
            "grid_auto_rows": null,
            "grid_gap": null,
            "max_width": null,
            "order": null,
            "_view_module_version": "1.2.0",
            "grid_template_areas": null,
            "object_position": null,
            "object_fit": null,
            "grid_auto_columns": null,
            "margin": null,
            "display": null,
            "left": null
          }
        },
        "4f8ed2a266314cd79d986167640a8e5c": {
          "model_module": "@jupyter-widgets/controls",
          "model_name": "IntProgressModel",
          "state": {
            "_view_name": "ProgressView",
            "style": "IPY_MODEL_31e707ee0e7a415fb017e66e834f24db",
            "_dom_classes": [],
            "description": "",
            "_model_name": "IntProgressModel",
            "bar_style": "",
            "max": 200,
            "_view_module": "@jupyter-widgets/controls",
            "_model_module_version": "1.5.0",
            "value": 73,
            "_view_count": null,
            "_view_module_version": "1.5.0",
            "orientation": "horizontal",
            "min": 0,
            "description_tooltip": null,
            "_model_module": "@jupyter-widgets/controls",
            "layout": "IPY_MODEL_191eb36e216d4151a905502b24d35806"
          }
        },
        "85a00407cc6a48fb81458ce6efde44e7": {
          "model_module": "@jupyter-widgets/controls",
          "model_name": "HTMLModel",
          "state": {
            "_view_name": "HTMLView",
            "style": "IPY_MODEL_4696cbe6a7084e3d8014b7510f0f8512",
            "_dom_classes": [],
            "description": "",
            "_model_name": "HTMLModel",
            "placeholder": "​",
            "_view_module": "@jupyter-widgets/controls",
            "_model_module_version": "1.5.0",
            "value": " 36% 73/200 [11:25&lt;19:45,  9.34s/epoch]",
            "_view_count": null,
            "_view_module_version": "1.5.0",
            "description_tooltip": null,
            "_model_module": "@jupyter-widgets/controls",
            "layout": "IPY_MODEL_db1fcab74fc044a9a08b4eb57054d917"
          }
        },
        "31e707ee0e7a415fb017e66e834f24db": {
          "model_module": "@jupyter-widgets/controls",
          "model_name": "ProgressStyleModel",
          "state": {
            "_view_name": "StyleView",
            "_model_name": "ProgressStyleModel",
            "description_width": "",
            "_view_module": "@jupyter-widgets/base",
            "_model_module_version": "1.5.0",
            "_view_count": null,
            "_view_module_version": "1.2.0",
            "bar_color": null,
            "_model_module": "@jupyter-widgets/controls"
          }
        },
        "191eb36e216d4151a905502b24d35806": {
          "model_module": "@jupyter-widgets/base",
          "model_name": "LayoutModel",
          "state": {
            "_view_name": "LayoutView",
            "grid_template_rows": null,
            "right": null,
            "justify_content": null,
            "_view_module": "@jupyter-widgets/base",
            "overflow": null,
            "_model_module_version": "1.2.0",
            "_view_count": null,
            "flex_flow": null,
            "width": null,
            "min_width": null,
            "border": null,
            "align_items": null,
            "bottom": null,
            "_model_module": "@jupyter-widgets/base",
            "top": null,
            "grid_column": null,
            "overflow_y": null,
            "overflow_x": null,
            "grid_auto_flow": null,
            "grid_area": null,
            "grid_template_columns": null,
            "flex": null,
            "_model_name": "LayoutModel",
            "justify_items": null,
            "grid_row": null,
            "max_height": null,
            "align_content": null,
            "visibility": null,
            "align_self": null,
            "height": null,
            "min_height": null,
            "padding": null,
            "grid_auto_rows": null,
            "grid_gap": null,
            "max_width": null,
            "order": null,
            "_view_module_version": "1.2.0",
            "grid_template_areas": null,
            "object_position": null,
            "object_fit": null,
            "grid_auto_columns": null,
            "margin": null,
            "display": null,
            "left": null
          }
        },
        "4696cbe6a7084e3d8014b7510f0f8512": {
          "model_module": "@jupyter-widgets/controls",
          "model_name": "DescriptionStyleModel",
          "state": {
            "_view_name": "StyleView",
            "_model_name": "DescriptionStyleModel",
            "description_width": "",
            "_view_module": "@jupyter-widgets/base",
            "_model_module_version": "1.5.0",
            "_view_count": null,
            "_view_module_version": "1.2.0",
            "_model_module": "@jupyter-widgets/controls"
          }
        },
        "db1fcab74fc044a9a08b4eb57054d917": {
          "model_module": "@jupyter-widgets/base",
          "model_name": "LayoutModel",
          "state": {
            "_view_name": "LayoutView",
            "grid_template_rows": null,
            "right": null,
            "justify_content": null,
            "_view_module": "@jupyter-widgets/base",
            "overflow": null,
            "_model_module_version": "1.2.0",
            "_view_count": null,
            "flex_flow": null,
            "width": null,
            "min_width": null,
            "border": null,
            "align_items": null,
            "bottom": null,
            "_model_module": "@jupyter-widgets/base",
            "top": null,
            "grid_column": null,
            "overflow_y": null,
            "overflow_x": null,
            "grid_auto_flow": null,
            "grid_area": null,
            "grid_template_columns": null,
            "flex": null,
            "_model_name": "LayoutModel",
            "justify_items": null,
            "grid_row": null,
            "max_height": null,
            "align_content": null,
            "visibility": null,
            "align_self": null,
            "height": null,
            "min_height": null,
            "padding": null,
            "grid_auto_rows": null,
            "grid_gap": null,
            "max_width": null,
            "order": null,
            "_view_module_version": "1.2.0",
            "grid_template_areas": null,
            "object_position": null,
            "object_fit": null,
            "grid_auto_columns": null,
            "margin": null,
            "display": null,
            "left": null
          }
        }
      }
    }
  },
  "cells": [
    {
      "cell_type": "code",
      "metadata": {
        "id": "C-7NObU_dzpq",
        "colab_type": "code",
        "colab": {}
      },
      "source": [
        "import numpy as np\n",
        "import matplotlib.pyplot as plt\n",
        "import matplotlib.colors\n",
        "import pandas as pd\n",
        "from sklearn.model_selection import train_test_split\n",
        "from sklearn.metrics import accuracy_score, mean_squared_error\n",
        "from tqdm import tqdm_notebook \n",
        "\n",
        "from sklearn.preprocessing import OneHotEncoder\n",
        "from sklearn.datasets import make_blobs"
      ],
      "execution_count": 0,
      "outputs": []
    },
    {
      "cell_type": "code",
      "metadata": {
        "id": "64lMAd4pd4Iz",
        "colab_type": "code",
        "colab": {
          "base_uri": "https://localhost:8080/",
          "height": 364
        },
        "outputId": "b9865527-f53f-477d-c4bb-6ea4080b6642"
      },
      "source": [
        "from keras.datasets import mnist\n",
        "import matplotlib.pyplot as plt\n",
        "# load (downloaded if needed) the MNIST dataset\n",
        "(X_train, y_train), (X_test, y_test) = mnist.load_data()\n",
        "# plot 4 images as gray scale\n",
        "plt.subplot(221)\n",
        "plt.imshow(X_train[0], cmap=plt.get_cmap('gray'))\n",
        "plt.subplot(222)\n",
        "plt.imshow(X_train[1], cmap=plt.get_cmap('gray'))\n",
        "plt.subplot(223)\n",
        "plt.imshow(X_train[2], cmap=plt.get_cmap('gray'))\n",
        "plt.subplot(224)\n",
        "plt.imshow(X_train[3], cmap=plt.get_cmap('gray'))\n",
        "# show the plot\n",
        "plt.show()"
      ],
      "execution_count": 2,
      "outputs": [
        {
          "output_type": "stream",
          "text": [
            "Using TensorFlow backend.\n"
          ],
          "name": "stderr"
        },
        {
          "output_type": "display_data",
          "data": {
            "text/html": [
              "<p style=\"color: red;\">\n",
              "The default version of TensorFlow in Colab will soon switch to TensorFlow 2.x.<br>\n",
              "We recommend you <a href=\"https://www.tensorflow.org/guide/migrate\" target=\"_blank\">upgrade</a> now \n",
              "or ensure your notebook will continue to use TensorFlow 1.x via the <code>%tensorflow_version 1.x</code> magic:\n",
              "<a href=\"https://colab.research.google.com/notebooks/tensorflow_version.ipynb\" target=\"_blank\">more info</a>.</p>\n"
            ],
            "text/plain": [
              "<IPython.core.display.HTML object>"
            ]
          },
          "metadata": {
            "tags": []
          }
        },
        {
          "output_type": "stream",
          "text": [
            "Downloading data from https://s3.amazonaws.com/img-datasets/mnist.npz\n",
            "11493376/11490434 [==============================] - 1s 0us/step\n"
          ],
          "name": "stdout"
        },
        {
          "output_type": "display_data",
          "data": {
            "image/png": "[encoded data removed]",
            "text/plain": [
              "<Figure size 432x288 with 4 Axes>"
            ]
          },
          "metadata": {
            "tags": []
          }
        }
      ]
    },
    {
      "cell_type": "markdown",
      "metadata": {
        "id": "FeQmTLM_ezpf",
        "colab_type": "text"
      },
      "source": [
        "#FEED FORWARD CLASS WITH BACK PROP"
      ]
    },
    {
      "cell_type": "code",
      "metadata": {
        "id": "cTxjpDx3d66R",
        "colab_type": "code",
        "colab": {}
      },
      "source": [
        "class FFSN_MultiClass:\n",
        "  \n",
        "  def __init__(self, n_inputs, n_outputs, hidden_sizes=[3]):\n",
        "    self.nx = n_inputs\n",
        "    self.ny = n_outputs\n",
        "    self.nh = len(hidden_sizes)\n",
        "    self.sizes = [self.nx] + hidden_sizes + [self.ny] \n",
        "\n",
        "    self.W = {}\n",
        "    self.B = {}\n",
        "    for i in range(self.nh+1):\n",
        "      self.W[i+1] = np.random.randn(self.sizes[i], self.sizes[i+1])\n",
        "      self.B[i+1] = np.zeros((1, self.sizes[i+1]))\n",
        "      \n",
        "  def sigmoid(self, x):\n",
        "    return 1.0/(1.0 + np.exp(-x))\n",
        "  \n",
        "  def softmax(self, x):\n",
        "    exps = np.exp(x)\n",
        "    return exps / np.sum(exps)\n",
        "\n",
        "  def forward_pass(self, x):\n",
        "    self.A = {}\n",
        "    self.H = {}\n",
        "    self.H[0] = x.reshape(1, -1)\n",
        "    for i in range(self.nh):\n",
        "      self.A[i+1] = np.matmul(self.H[i], self.W[i+1]) + self.B[i+1]\n",
        "      self.H[i+1] = self.sigmoid(self.A[i+1])\n",
        "    self.A[self.nh+1] = np.matmul(self.H[self.nh], self.W[self.nh+1]) + self.B[self.nh+1]\n",
        "    self.H[self.nh+1] = self.softmax(self.A[self.nh+1])\n",
        "    return self.H[self.nh+1]\n",
        "  \n",
        "  def predict(self, X):\n",
        "    Y_pred = []\n",
        "    for x in X:\n",
        "      y_pred = self.forward_pass(x)\n",
        "      Y_pred.append(y_pred)\n",
        "    return np.array(Y_pred).squeeze()\n",
        " \n",
        "  def grad_sigmoid(self, x):\n",
        "    return x*(1-x) \n",
        "  \n",
        "  def cross_entropy(self,label,pred):\n",
        "    yl=np.multiply(pred,label)\n",
        "    yl=yl[yl!=0]\n",
        "    yl=-np.log(yl)\n",
        "    yl=np.mean(yl)\n",
        "    return yl\n",
        " \n",
        "  def grad(self, x, y):\n",
        "    self.forward_pass(x)\n",
        "    self.dW = {}\n",
        "    self.dB = {}\n",
        "    self.dH = {}\n",
        "    self.dA = {}\n",
        "    L = self.nh + 1\n",
        "    self.dA[L] = (self.H[L] - y)\n",
        "    for k in range(L, 0, -1):\n",
        "      self.dW[k] = np.matmul(self.H[k-1].T, self.dA[k])\n",
        "      self.dB[k] = self.dA[k]\n",
        "      self.dH[k-1] = np.matmul(self.dA[k], self.W[k].T)\n",
        "      self.dA[k-1] = np.multiply(self.dH[k-1], self.grad_sigmoid(self.H[k-1])) \n",
        "    \n",
        "  def fit(self, X, Y, epochs=100, initialize='True', learning_rate=0.01, display_loss=False):\n",
        "      \n",
        "    if display_loss:\n",
        "      loss = {}\n",
        "      \n",
        "    if initialize:\n",
        "      for i in range(self.nh+1):\n",
        "        self.W[i+1] = np.random.randn(self.sizes[i], self.sizes[i+1])\n",
        "        self.B[i+1] = np.zeros((1, self.sizes[i+1]))\n",
        "        \n",
        "    for epoch in tqdm_notebook(range(epochs), total=epochs, unit=\"epoch\"):\n",
        "      dW = {}\n",
        "      dB = {}\n",
        "      for i in range(self.nh+1):\n",
        "        dW[i+1] = np.zeros((self.sizes[i], self.sizes[i+1]))\n",
        "        dB[i+1] = np.zeros((1, self.sizes[i+1]))\n",
        "      for x, y in zip(X, Y):\n",
        "        self.grad(x, y)\n",
        "        for i in range(self.nh+1):\n",
        "          dW[i+1] += self.dW[i+1]\n",
        "          dB[i+1] += self.dB[i+1]\n",
        "                  \n",
        "      m = X.shape[1]\n",
        "      for i in range(self.nh+1):\n",
        "        self.W[i+1] -= learning_rate * (dW[i+1]/m)\n",
        "        self.B[i+1] -= learning_rate * (dB[i+1]/m)\n",
        "        \n",
        "      if display_loss:\n",
        "        Y_pred = self.predict(X) \n",
        "        loss[epoch] = self.cross_entropy(Y, Y_pred)\n",
        "    \n",
        "    if display_loss:\n",
        "      plt.plot(*zip(*sorted(loss.items())))\n",
        "      plt.xlabel('Epochs')\n",
        "      plt.ylabel('CE')\n",
        "      plt.show()"
      ],
      "execution_count": 0,
      "outputs": []
    },
    {
      "cell_type": "markdown",
      "metadata": {
        "id": "BTO-XEmmfTof",
        "colab_type": "text"
      },
      "source": [
        "# NOTE:   The training dataset is structured as a 3-dimensional array of instance, image width and image height. For a multi-layer perceptron model we must reduce the images down into a vector of pixels. In this case the 28×28 sized images will be 784 pixel input values.\n",
        "\n",
        "We can do this transform easily using the reshape() function on the NumPy array. We can also reduce our memory requirements by forcing the precision of the pixel values to be 32 bit, the default precision used by Keras anyway."
      ]
    },
    {
      "cell_type": "code",
      "metadata": {
        "id": "6cSjCvNfeKsR",
        "colab_type": "code",
        "colab": {}
      },
      "source": [
        "num_pixels = X_train.shape[1] * X_train.shape[2]\n",
        "X_train = X_train.reshape((X_train.shape[0], num_pixels)).astype('float32')\n",
        "X_test = X_test.reshape((X_test.shape[0], num_pixels)).astype('float32')"
      ],
      "execution_count": 0,
      "outputs": []
    },
    {
      "cell_type": "markdown",
      "metadata": {
        "id": "bUI7KlNNflpR",
        "colab_type": "text"
      },
      "source": [
        "#NOTE:  The pixel values are gray scale between 0 and 255. It is almost always a good idea to perform some scaling of input values when using neural network models. Because the scale is well known and well behaved, we can very quickly normalize the pixel values to the range 0 and 1 by dividing each value by the maximum of 255."
      ]
    },
    {
      "cell_type": "code",
      "metadata": {
        "id": "dUSPBy_ZePws",
        "colab_type": "code",
        "colab": {}
      },
      "source": [
        "X_train = X_train / 255\n",
        "X_test = X_test / 255"
      ],
      "execution_count": 0,
      "outputs": []
    },
    {
      "cell_type": "code",
      "metadata": {
        "id": "XLNs9615eRxp",
        "colab_type": "code",
        "colab": {
          "base_uri": "https://localhost:8080/",
          "height": 34
        },
        "outputId": "b623fbd2-81ae-4198-a7a9-cdcafe5620c1"
      },
      "source": [
        "print(X_train.shape, X_test.shape, y_train.shape,y_test.shape)"
      ],
      "execution_count": 6,
      "outputs": [
        {
          "output_type": "stream",
          "text": [
            "(60000, 784) (10000, 784) (60000,) (10000,)\n"
          ],
          "name": "stdout"
        }
      ]
    },
    {
      "cell_type": "markdown",
      "metadata": {
        "id": "vPAbykc7fti2",
        "colab_type": "text"
      },
      "source": [
        "#ONE HOT ENCODING"
      ]
    },
    {
      "cell_type": "code",
      "metadata": {
        "id": "5R-cmy1HeUm-",
        "colab_type": "code",
        "colab": {
          "base_uri": "https://localhost:8080/",
          "height": 34
        },
        "outputId": "91862932-6719-460c-bd86-998ddbf26d27"
      },
      "source": [
        "enc = OneHotEncoder()\n",
        "y_OH_train = enc.fit_transform(np.expand_dims(y_train,1)).toarray()\n",
        "y_OH_val = enc.fit_transform(np.expand_dims(y_test,1)).toarray()\n",
        "print(y_OH_train.shape, y_OH_val.shape)"
      ],
      "execution_count": 7,
      "outputs": [
        {
          "output_type": "stream",
          "text": [
            "(60000, 10) (10000, 10)\n"
          ],
          "name": "stdout"
        }
      ]
    },
    {
      "cell_type": "code",
      "metadata": {
        "id": "gxmZKABEeXnW",
        "colab_type": "code",
        "colab": {
          "base_uri": "https://localhost:8080/",
          "height": 49,
          "referenced_widgets": [
            "f7bc7525569c46468c156e18c2007223",
            "d6cadfa0b6f84a66a52f8b1b130d923a",
            "4f8ed2a266314cd79d986167640a8e5c",
            "85a00407cc6a48fb81458ce6efde44e7",
            "31e707ee0e7a415fb017e66e834f24db",
            "191eb36e216d4151a905502b24d35806",
            "4696cbe6a7084e3d8014b7510f0f8512",
            "db1fcab74fc044a9a08b4eb57054d917"
          ]
        },
        "outputId": "8dfd8b8d-4e3d-4a0b-c6a9-94dc4b64def4"
      },
      "source": [
        "ffsn_multi = FFSN_MultiClass(784,10,[2,3])\n",
        "ffsn_multi.fit(X_train,y_OH_train,epochs=200,learning_rate=.005,display_loss=True)\n",
        "\"\"\"784-->denotes input\n",
        "  10-->output\n",
        "  2-->neuron in first hidden layer\n",
        "  3-->neuron in second hidden layer\"\"\""
      ],
      "execution_count": 0,
      "outputs": [
        {
          "output_type": "display_data",
          "data": {
            "application/vnd.jupyter.widget-view+json": {
              "model_id": "f7bc7525569c46468c156e18c2007223",
              "version_minor": 0,
              "version_major": 2
            },
            "text/plain": [
              "HBox(children=(IntProgress(value=0, max=200), HTML(value='')))"
            ]
          },
          "metadata": {
            "tags": []
          }
        }
      ]
    },
    {
      "cell_type": "code",
      "metadata": {
        "id": "OKTLxg8Ael41",
        "colab_type": "code",
        "colab": {}
      },
      "source": [
        "Y_pred_train = ffsn_multi.predict(X_train)\n",
        "Y_pred_train = np.argmax(Y_pred_train,1)\n",
        "\n",
        "Y_pred_val = ffsn_multi.predict(X_test)\n",
        "Y_pred_val = np.argmax(Y_pred_val,1)\n",
        "\n",
        "accuracy_train = accuracy_score(Y_pred_train, y_train)\n",
        "accuracy_val = accuracy_score(Y_pred_val, y_test)\n",
        "\n",
        "print(\"Training accuracy\", round(accuracy_train, 2))\n",
        "print(\"Validation accuracy\", round(accuracy_val, 2))"
      ],
      "execution_count": 0,
      "outputs": []
    }
  ]
}